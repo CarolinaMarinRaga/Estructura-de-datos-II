{
  "cells": [
    {
      "cell_type": "code",
      "source": [
        "d1={\n",
        "    \"Nombre\": \"Carolina\",\n",
        "    \"Edad\": 26,\n",
        "    \"Documento\": 1004671669\n",
        "}\n",
        "print(d1)"
      ],
      "metadata": {
        "colab": {
          "base_uri": "https://localhost:8080/"
        },
        "id": "Brs_7GxwnQ_d",
        "outputId": "6a3f5ce4-f0d3-42a1-a603-93f65a40d1be"
      },
      "execution_count": 1,
      "outputs": [
        {
          "output_type": "stream",
          "name": "stdout",
          "text": [
            "{'Nombre': 'Carolina', 'Edad': 26, 'Documento': 1004671669}\n"
          ]
        }
      ]
    },
    {
      "cell_type": "code",
      "source": [
        "d2 = dict([\n",
        "    (\"Nombre\", \"Carolina\"),\n",
        "    (\"Edad\", 26),\n",
        "    (\"Documento\", 1004671669)\n",
        "])\n",
        "print(d2)"
      ],
      "metadata": {
        "colab": {
          "base_uri": "https://localhost:8080/"
        },
        "id": "2G8GihK4nxEh",
        "outputId": "77b2f658-67ff-42e8-8dde-cc632d37ef96"
      },
      "execution_count": 2,
      "outputs": [
        {
          "output_type": "stream",
          "name": "stdout",
          "text": [
            "{'Nombre': 'Carolina', 'Edad': 26, 'Documento': 1004671669}\n"
          ]
        }
      ]
    },
    {
      "cell_type": "code",
      "source": [
        "d3 = dict(Nombre = \"Carolina\",\n",
        "          Edad = 26,\n",
        "          Documento = 1004671669)\n",
        "print(d3)"
      ],
      "metadata": {
        "colab": {
          "base_uri": "https://localhost:8080/"
        },
        "id": "nKdhtvVgojtX",
        "outputId": "68365cb9-7a9b-4b31-9e68-9f843c195d63"
      },
      "execution_count": 3,
      "outputs": [
        {
          "output_type": "stream",
          "name": "stdout",
          "text": [
            "{'Nombre': 'Carolina', 'Edad': 26, 'Documento': 1004671669}\n"
          ]
        }
      ]
    },
    {
      "cell_type": "code",
      "source": [
        "print(d1[\"Nombre\"])\n",
        "print(d1.get(\"Nombre\"))\n",
        "print(d1[\"Edad\"])\n",
        "print(d1.get(\"Edad\"))\n",
        "print(d1[\"Documento\"])\n",
        "print(d1.get(\"Documento\"))"
      ],
      "metadata": {
        "colab": {
          "base_uri": "https://localhost:8080/"
        },
        "id": "fQ7WxsGqpssK",
        "outputId": "879b21ae-abfc-4b22-ec93-002003c26d70"
      },
      "execution_count": 4,
      "outputs": [
        {
          "output_type": "stream",
          "name": "stdout",
          "text": [
            "Carolina\n",
            "Carolina\n",
            "26\n",
            "26\n",
            "1004671669\n",
            "1004671669\n"
          ]
        }
      ]
    },
    {
      "cell_type": "code",
      "source": [
        "d1[\"Nombre\"] = \"Laura\"\n",
        "print(d1)"
      ],
      "metadata": {
        "colab": {
          "base_uri": "https://localhost:8080/"
        },
        "id": "BVfCnCTeqLHh",
        "outputId": "7b8db674-ae39-4b8a-885b-f84f9b23198c"
      },
      "execution_count": 6,
      "outputs": [
        {
          "output_type": "stream",
          "name": "stdout",
          "text": [
            "{'Nombre': 'Laura', 'Edad': 26, 'Documento': 1004671669}\n"
          ]
        }
      ]
    },
    {
      "cell_type": "code",
      "source": [
        "d1[\"Direccion\"] = \"Calle 123\"\n",
        "print(d1)"
      ],
      "metadata": {
        "colab": {
          "base_uri": "https://localhost:8080/"
        },
        "id": "6RW9q8ysrAAy",
        "outputId": "2cd0cd27-1aa7-4891-ac09-aef2f06b4e2c"
      },
      "execution_count": 7,
      "outputs": [
        {
          "output_type": "stream",
          "name": "stdout",
          "text": [
            "{'Nombre': 'Laura', 'Edad': 26, 'Documento': 1004671669, 'Direccion': 'Calle 123'}\n"
          ]
        }
      ]
    },
    {
      "cell_type": "code",
      "source": [
        "for x in d1:\n",
        "    print(x)"
      ],
      "metadata": {
        "colab": {
          "base_uri": "https://localhost:8080/"
        },
        "id": "5kfaG_GTrx9A",
        "outputId": "20903a6e-a128-4f1a-d47d-9d3b2b2a2cf1"
      },
      "execution_count": 8,
      "outputs": [
        {
          "output_type": "stream",
          "name": "stdout",
          "text": [
            "Nombre\n",
            "Edad\n",
            "Documento\n",
            "Direccion\n"
          ]
        }
      ]
    },
    {
      "cell_type": "code",
      "source": [
        "for x in d1:\n",
        "    print(d1[x])"
      ],
      "metadata": {
        "colab": {
          "base_uri": "https://localhost:8080/"
        },
        "id": "9thf9GaEsNIv",
        "outputId": "0eec10c2-8c36-4242-f976-59919a8aebb9"
      },
      "execution_count": 9,
      "outputs": [
        {
          "output_type": "stream",
          "name": "stdout",
          "text": [
            "Laura\n",
            "26\n",
            "1004671669\n",
            "Calle 123\n"
          ]
        }
      ]
    },
    {
      "cell_type": "code",
      "source": [
        "for x, y in d1.items():\n",
        "    print(x, y)"
      ],
      "metadata": {
        "colab": {
          "base_uri": "https://localhost:8080/"
        },
        "id": "xap-SFkMs9yv",
        "outputId": "af637c5b-e081-4808-e656-961c16da48f0"
      },
      "execution_count": 10,
      "outputs": [
        {
          "output_type": "stream",
          "name": "stdout",
          "text": [
            "Nombre Laura\n",
            "Edad 26\n",
            "Documento 1004671669\n",
            "Direccion Calle 123\n"
          ]
        }
      ]
    },
    {
      "cell_type": "code",
      "source": [
        "anidado1 = {\"a\": 1, \"b\": 2}\n",
        "anidado2 = {\"a\": 1, \"b\": 2}\n",
        "d = {\n",
        "    \"anidado1\": anidado1,\n",
        "    \"anidado2\": anidado2\n",
        "}\n",
        "print(d)"
      ],
      "metadata": {
        "id": "xhWketWjuJVP",
        "outputId": "a11c66e8-c0ca-4d64-d55b-f92e9abd229b",
        "colab": {
          "base_uri": "https://localhost:8080/"
        }
      },
      "execution_count": 11,
      "outputs": [
        {
          "output_type": "stream",
          "name": "stdout",
          "text": [
            "{'anidado1': {'a': 1, 'b': 2}, 'anidado2': {'a': 1, 'b': 2}}\n"
          ]
        }
      ]
    },
    {
      "cell_type": "code",
      "source": [
        "d = {\"a\": 1, \"b\": 2}\n",
        "d.clear()\n",
        "print(d)"
      ],
      "metadata": {
        "id": "CAkJn3g-wAwA",
        "outputId": "e4693976-11f3-4724-f218-ab2cd070e8f0",
        "colab": {
          "base_uri": "https://localhost:8080/"
        }
      },
      "execution_count": 12,
      "outputs": [
        {
          "output_type": "stream",
          "name": "stdout",
          "text": [
            "{}\n"
          ]
        }
      ]
    },
    {
      "cell_type": "code",
      "source": [
        "d = {\"a\": 1, \"b\": 2}\n",
        "print(d.get(\"a\"))\n",
        "print(d.get(\"z\", \"No encontrado\"))"
      ],
      "metadata": {
        "id": "mfai99RJwz3E",
        "outputId": "aca200bf-564e-4fd1-bdea-a055480c61dd",
        "colab": {
          "base_uri": "https://localhost:8080/"
        }
      },
      "execution_count": 13,
      "outputs": [
        {
          "output_type": "stream",
          "name": "stdout",
          "text": [
            "1\n",
            "No encontrado\n"
          ]
        }
      ]
    },
    {
      "cell_type": "code",
      "source": [
        "d = {\"a\": 1, \"b\": 2}\n",
        "it = d.items()\n",
        "print(it)\n",
        "print(list(it))\n",
        "print(list(it)[0][0])"
      ],
      "metadata": {
        "id": "X0rze6NWxb8W",
        "outputId": "23720b0a-bd30-470d-cced-704e01d8ab16",
        "colab": {
          "base_uri": "https://localhost:8080/"
        }
      },
      "execution_count": 14,
      "outputs": [
        {
          "output_type": "stream",
          "name": "stdout",
          "text": [
            "dict_items([('a', 1), ('b', 2)])\n",
            "[('a', 1), ('b', 2)]\n",
            "a\n"
          ]
        }
      ]
    },
    {
      "cell_type": "code",
      "source": [
        "d = {\"a\": 1, \"b\": 2}\n",
        "k = d.keys()\n",
        "print(k)\n",
        "print(list(k))"
      ],
      "metadata": {
        "id": "CjRGTOM_yCTl",
        "outputId": "06345574-1537-439e-dabb-a6d8cdc07827",
        "colab": {
          "base_uri": "https://localhost:8080/"
        }
      },
      "execution_count": 16,
      "outputs": [
        {
          "output_type": "stream",
          "name": "stdout",
          "text": [
            "dict_keys(['a', 'b'])\n",
            "['a', 'b']\n"
          ]
        }
      ]
    },
    {
      "cell_type": "code",
      "source": [
        "d = {\"a\": 1, \"b\": 2}\n",
        "print(list(d.values()))"
      ],
      "metadata": {
        "id": "9NT_fS7Nyrf9",
        "outputId": "e1f9314b-66d4-4637-9e10-fc143bf200e9",
        "colab": {
          "base_uri": "https://localhost:8080/"
        }
      },
      "execution_count": 17,
      "outputs": [
        {
          "output_type": "stream",
          "name": "stdout",
          "text": [
            "[1, 2]\n"
          ]
        }
      ]
    },
    {
      "cell_type": "code",
      "source": [
        "d = {\"a\": 1, \"b\": 2}\n",
        "d.pop(\"a\")\n",
        "print(d)"
      ],
      "metadata": {
        "id": "QClATWFWzStj",
        "outputId": "23dfe85a-32ec-4203-b0db-4606540b77e2",
        "colab": {
          "base_uri": "https://localhost:8080/"
        }
      },
      "execution_count": 18,
      "outputs": [
        {
          "output_type": "stream",
          "name": "stdout",
          "text": [
            "{'b': 2}\n"
          ]
        }
      ]
    },
    {
      "cell_type": "code",
      "source": [
        "d = {\"a\": 1, \"b\": 2}\n",
        "d.pop(\"c\", 1)\n",
        "print(d)"
      ],
      "metadata": {
        "id": "LtgqEHlWzksD",
        "outputId": "7e005025-3af3-4384-8a9d-d73f52eb2512",
        "colab": {
          "base_uri": "https://localhost:8080/"
        }
      },
      "execution_count": 19,
      "outputs": [
        {
          "output_type": "stream",
          "name": "stdout",
          "text": [
            "{'a': 1, 'b': 2}\n"
          ]
        }
      ]
    },
    {
      "cell_type": "code",
      "source": [
        "d = {\"a\": 1, \"b\": 2}\n",
        "d.popitem()\n",
        "print(d)"
      ],
      "metadata": {
        "id": "NFnGrDav0LH7",
        "outputId": "d7b4cbb0-05cd-4667-a209-28786611e254",
        "colab": {
          "base_uri": "https://localhost:8080/"
        }
      },
      "execution_count": 20,
      "outputs": [
        {
          "output_type": "stream",
          "name": "stdout",
          "text": [
            "{'a': 1}\n"
          ]
        }
      ]
    },
    {
      "cell_type": "code",
      "source": [
        "d1 = {\"a\": 1, \"b\": 2}\n",
        "d2 = {\"c\": 0, \"d\": 400}\n",
        "d1.update(d2)\n",
        "print(d1)"
      ],
      "metadata": {
        "id": "0fjc7Bg00mjq",
        "outputId": "47af2c7f-f7b2-40b4-c1be-5ca99d81ece1",
        "colab": {
          "base_uri": "https://localhost:8080/"
        }
      },
      "execution_count": 21,
      "outputs": [
        {
          "output_type": "stream",
          "name": "stdout",
          "text": [
            "{'a': 1, 'b': 2, 'c': 0, 'd': 400}\n"
          ]
        }
      ]
    }
  ],
  "metadata": {
    "colab": {
      "name": "Te damos la bienvenida a Colaboratory",
      "provenance": []
    },
    "kernelspec": {
      "display_name": "Python 3",
      "name": "python3"
    }
  },
  "nbformat": 4,
  "nbformat_minor": 0
}