{
  "cells": [
    {
      "cell_type": "code",
      "source": [
        "mi_tupla = (1,2,3, \"hola\", True)\n",
        "print(mi_tupla)"
      ],
      "metadata": {
        "id": "bP_ZM7wnyV80",
        "outputId": "d894afb1-b4ce-457c-b542-aeb1edb94810",
        "colab": {
          "base_uri": "https://localhost:8080/"
        }
      },
      "execution_count": 2,
      "outputs": [
        {
          "output_type": "stream",
          "name": "stdout",
          "text": [
            "(1, 2, 3, 'hola', True)\n"
          ]
        }
      ]
    },
    {
      "cell_type": "code",
      "source": [
        "t = (1,1,2,3,3,3)\n",
        "print(t)"
      ],
      "metadata": {
        "id": "Ytj2pgUey1hN",
        "outputId": "4e278658-a939-41d7-8210-abb11c4cb5b1",
        "colab": {
          "base_uri": "https://localhost:8080/"
        }
      },
      "execution_count": 3,
      "outputs": [
        {
          "output_type": "stream",
          "name": "stdout",
          "text": [
            "(1, 1, 2, 3, 3, 3)\n"
          ]
        }
      ]
    },
    {
      "cell_type": "code",
      "source": [
        "lista = [1,2,3]\n",
        "print(lista)"
      ],
      "metadata": {
        "id": "WYB-H7QXzekD",
        "outputId": "e3f4881c-7f0a-417c-bf1e-fd1de26a4564",
        "colab": {
          "base_uri": "https://localhost:8080/"
        }
      },
      "execution_count": 4,
      "outputs": [
        {
          "output_type": "stream",
          "name": "stdout",
          "text": [
            "[1, 2, 3]\n"
          ]
        }
      ]
    },
    {
      "cell_type": "code",
      "source": [
        "tupla = (1,2,3)\n",
        "print(tupla)"
      ],
      "metadata": {
        "id": "ktCabWBEzqpc",
        "outputId": "ddebd092-9350-4055-b129-8def64ac9d20",
        "colab": {
          "base_uri": "https://localhost:8080/"
        }
      },
      "execution_count": 5,
      "outputs": [
        {
          "output_type": "stream",
          "name": "stdout",
          "text": [
            "(1, 2, 3)\n"
          ]
        }
      ]
    },
    {
      "cell_type": "code",
      "source": [
        "lista[0]=10\n",
        "print(lista)"
      ],
      "metadata": {
        "id": "wi8YeL5azu-u",
        "outputId": "398df680-c053-4d2f-be31-800d12dba778",
        "colab": {
          "base_uri": "https://localhost:8080/"
        }
      },
      "execution_count": 7,
      "outputs": [
        {
          "output_type": "stream",
          "name": "stdout",
          "text": [
            "[10, 2, 3]\n"
          ]
        }
      ]
    },
    {
      "cell_type": "code",
      "source": [
        "tupla[0]=10\n",
        "print(tupla)"
      ],
      "metadata": {
        "id": "WT8JrMgsz3DU",
        "outputId": "cec1ec10-2f08-429c-ec7a-7fa1bcab3436",
        "colab": {
          "base_uri": "https://localhost:8080/",
          "height": 159
        }
      },
      "execution_count": 8,
      "outputs": [
        {
          "output_type": "error",
          "ename": "TypeError",
          "evalue": "'tuple' object does not support item assignment",
          "traceback": [
            "\u001b[0;31m---------------------------------------------------------------------------\u001b[0m",
            "\u001b[0;31mTypeError\u001b[0m                                 Traceback (most recent call last)",
            "\u001b[0;32m/tmp/ipython-input-1706266298.py\u001b[0m in \u001b[0;36m<cell line: 0>\u001b[0;34m()\u001b[0m\n\u001b[0;32m----> 1\u001b[0;31m \u001b[0mtupla\u001b[0m\u001b[0;34m[\u001b[0m\u001b[0;36m0\u001b[0m\u001b[0;34m]\u001b[0m\u001b[0;34m=\u001b[0m\u001b[0;36m10\u001b[0m\u001b[0;34m\u001b[0m\u001b[0;34m\u001b[0m\u001b[0m\n\u001b[0m\u001b[1;32m      2\u001b[0m \u001b[0mprint\u001b[0m\u001b[0;34m(\u001b[0m\u001b[0mtupla\u001b[0m\u001b[0;34m)\u001b[0m\u001b[0;34m\u001b[0m\u001b[0;34m\u001b[0m\u001b[0m\n",
            "\u001b[0;31mTypeError\u001b[0m: 'tuple' object does not support item assignment"
          ]
        }
      ]
    },
    {
      "cell_type": "code",
      "source": [
        "coordenadas = (40.7128, -74.0060)\n",
        "coordenadas[0] = 41.0"
      ],
      "metadata": {
        "id": "4Z8jicCh0mhy",
        "outputId": "426aaa32-34b6-42c2-8764-1c833232a61b",
        "colab": {
          "base_uri": "https://localhost:8080/",
          "height": 159
        }
      },
      "execution_count": 9,
      "outputs": [
        {
          "output_type": "error",
          "ename": "TypeError",
          "evalue": "'tuple' object does not support item assignment",
          "traceback": [
            "\u001b[0;31m---------------------------------------------------------------------------\u001b[0m",
            "\u001b[0;31mTypeError\u001b[0m                                 Traceback (most recent call last)",
            "\u001b[0;32m/tmp/ipython-input-3724513644.py\u001b[0m in \u001b[0;36m<cell line: 0>\u001b[0;34m()\u001b[0m\n\u001b[1;32m      1\u001b[0m \u001b[0mcoordenadas\u001b[0m \u001b[0;34m=\u001b[0m \u001b[0;34m(\u001b[0m\u001b[0;36m40.7128\u001b[0m\u001b[0;34m,\u001b[0m \u001b[0;34m-\u001b[0m\u001b[0;36m74.0060\u001b[0m\u001b[0;34m)\u001b[0m\u001b[0;34m\u001b[0m\u001b[0;34m\u001b[0m\u001b[0m\n\u001b[0;32m----> 2\u001b[0;31m \u001b[0mcoordenadas\u001b[0m\u001b[0;34m[\u001b[0m\u001b[0;36m0\u001b[0m\u001b[0;34m]\u001b[0m \u001b[0;34m=\u001b[0m \u001b[0;36m41.0\u001b[0m\u001b[0;34m\u001b[0m\u001b[0;34m\u001b[0m\u001b[0m\n\u001b[0m",
            "\u001b[0;31mTypeError\u001b[0m: 'tuple' object does not support item assignment"
          ]
        }
      ]
    },
    {
      "cell_type": "code",
      "source": [
        "tupla1 = (1,2,3)\n",
        "tupla2 = (\"a\",\"b\",\"c\")\n",
        "tupla3 = (1, \"hola\", 3.5)\n",
        "tupla4 = ()\n",
        "tupla5 = (5,)\n",
        "print(tupla1)\n",
        "print(tupla2)\n",
        "print(tupla3)\n",
        "print(tupla4)\n",
        "print(tupla5)"
      ],
      "metadata": {
        "id": "vd7vVbey0x96",
        "outputId": "de72852f-116a-451f-f0d2-66ddccdf9f0e",
        "colab": {
          "base_uri": "https://localhost:8080/"
        }
      },
      "execution_count": 10,
      "outputs": [
        {
          "output_type": "stream",
          "name": "stdout",
          "text": [
            "(1, 2, 3)\n",
            "('a', 'b', 'c')\n",
            "(1, 'hola', 3.5)\n",
            "()\n",
            "(5,)\n"
          ]
        }
      ]
    },
    {
      "cell_type": "code",
      "source": [
        "tupla = (\"Python\", 2025, True)\n",
        "print(tupla[0])\n",
        "print(tupla[1])\n",
        "print(tupla[-1])"
      ],
      "metadata": {
        "id": "CLn2eASc2dFy",
        "outputId": "fa9ee4b0-36d7-4807-fe10-618c896c3cff",
        "colab": {
          "base_uri": "https://localhost:8080/"
        }
      },
      "execution_count": 11,
      "outputs": [
        {
          "output_type": "stream",
          "name": "stdout",
          "text": [
            "Python\n",
            "2025\n",
            "True\n"
          ]
        }
      ]
    },
    {
      "cell_type": "code",
      "source": [
        "tupla = (10, 20, 30, 40, 50)\n",
        "print(tupla[1:4])\n",
        "print(tupla[:3])\n",
        "print(tupla[::2])"
      ],
      "metadata": {
        "id": "bURyLw3g25Za",
        "outputId": "b806ffed-62c8-4de5-f7cd-6dd11a412695",
        "colab": {
          "base_uri": "https://localhost:8080/"
        }
      },
      "execution_count": 12,
      "outputs": [
        {
          "output_type": "stream",
          "name": "stdout",
          "text": [
            "(20, 30, 40)\n",
            "(10, 20, 30)\n",
            "(10, 30, 50)\n"
          ]
        }
      ]
    },
    {
      "cell_type": "code",
      "source": [
        "colores = (\"rojo\", \"verde\", \"azul\")\n",
        "for color in colores:\n",
        "  print(color)"
      ],
      "metadata": {
        "id": "FGxdKNpe3yza",
        "outputId": "ef811777-652c-4d22-9cc8-08d4a72b2b16",
        "colab": {
          "base_uri": "https://localhost:8080/"
        }
      },
      "execution_count": 13,
      "outputs": [
        {
          "output_type": "stream",
          "name": "stdout",
          "text": [
            "rojo\n",
            "verde\n",
            "azul\n"
          ]
        }
      ]
    },
    {
      "cell_type": "code",
      "source": [
        "t = ((1,2), (3,4), (5,6))\n",
        "print(t[0])\n",
        "print(t[0][1])"
      ],
      "metadata": {
        "id": "LJIaP9uC5RpI",
        "outputId": "5d8c0460-0701-4dcd-fe4b-2ad845b0b5b4",
        "colab": {
          "base_uri": "https://localhost:8080/"
        }
      },
      "execution_count": 14,
      "outputs": [
        {
          "output_type": "stream",
          "name": "stdout",
          "text": [
            "(1, 2)\n",
            "2\n"
          ]
        }
      ]
    },
    {
      "cell_type": "code",
      "source": [
        "t1 = (1, 2, 3)\n",
        "t2 = (4, 5, 6)\n",
        "resultado = t1 + t2\n",
        "print(resultado)\n"
      ],
      "metadata": {
        "id": "1JVyio-w5m5Y",
        "outputId": "25b2e4ff-e5f3-4d20-81e4-bbe36674d587",
        "colab": {
          "base_uri": "https://localhost:8080/"
        }
      },
      "execution_count": 15,
      "outputs": [
        {
          "output_type": "stream",
          "name": "stdout",
          "text": [
            "(1, 2, 3, 4, 5, 6)\n"
          ]
        }
      ]
    },
    {
      "cell_type": "code",
      "source": [
        "t = (\"Python\",)*3\n",
        "print(t)"
      ],
      "metadata": {
        "id": "cP5HiS_O6BIa",
        "outputId": "bba9723c-8f64-4088-b9d3-6d5c263271ad",
        "colab": {
          "base_uri": "https://localhost:8080/"
        }
      },
      "execution_count": 16,
      "outputs": [
        {
          "output_type": "stream",
          "name": "stdout",
          "text": [
            "('Python', 'Python', 'Python')\n"
          ]
        }
      ]
    },
    {
      "cell_type": "code",
      "source": [
        "t = (10,20,30,40)\n",
        "print(20 in t)\n",
        "print(50 not in t)"
      ],
      "metadata": {
        "id": "VWlHHQze6mFQ",
        "outputId": "893a5eed-102d-4dc8-86a7-9f7c240c982b",
        "colab": {
          "base_uri": "https://localhost:8080/"
        }
      },
      "execution_count": 17,
      "outputs": [
        {
          "output_type": "stream",
          "name": "stdout",
          "text": [
            "True\n",
            "True\n"
          ]
        }
      ]
    },
    {
      "cell_type": "code",
      "source": [
        "persona = (\"Nicolas\", 22, \"Colombia\")\n",
        "nombre, edad, pais = persona\n",
        "print(nombre)\n",
        "print(edad)\n",
        "print(pais)"
      ],
      "metadata": {
        "id": "PEiLkPIw7Jzf",
        "outputId": "95101a6f-d5eb-4a3e-fa65-7f04c6f3f2c6",
        "colab": {
          "base_uri": "https://localhost:8080/"
        }
      },
      "execution_count": 18,
      "outputs": [
        {
          "output_type": "stream",
          "name": "stdout",
          "text": [
            "Nicolas\n",
            "22\n",
            "Colombia\n"
          ]
        }
      ]
    },
    {
      "cell_type": "code",
      "source": [
        "t = (1,2,2,3,4,)\n",
        "print(t.count(2))\n",
        "print(t.index(3))"
      ],
      "metadata": {
        "id": "FD7P5beW7m6f",
        "outputId": "f06e6ba4-d99c-4a8e-d83a-17a755d18d4a",
        "colab": {
          "base_uri": "https://localhost:8080/"
        }
      },
      "execution_count": 20,
      "outputs": [
        {
          "output_type": "stream",
          "name": "stdout",
          "text": [
            "2\n",
            "3\n"
          ]
        }
      ]
    },
    {
      "cell_type": "code",
      "source": [
        "t = (5,1,7,3)\n",
        "print(len(t))\n",
        "print(max(t))\n",
        "print(min(t))\n",
        "print(sum(t))\n",
        "print(sorted(t))"
      ],
      "metadata": {
        "id": "bC5DBSU08WIg",
        "outputId": "5c3e0d50-32dd-40bc-ab17-d5c98be628d8",
        "colab": {
          "base_uri": "https://localhost:8080/"
        }
      },
      "execution_count": 23,
      "outputs": [
        {
          "output_type": "stream",
          "name": "stdout",
          "text": [
            "4\n",
            "7\n",
            "1\n",
            "16\n",
            "[1, 3, 5, 7]\n"
          ]
        }
      ]
    },
    {
      "cell_type": "code",
      "source": [
        "lista = [1,2,3]\n",
        "tupla = tuple(lista)\n",
        "print(tupla)"
      ],
      "metadata": {
        "id": "DJ5SMSmr87hX",
        "outputId": "b75f93e9-deb8-4f03-dbd9-7aa9c18a9495",
        "colab": {
          "base_uri": "https://localhost:8080/"
        }
      },
      "execution_count": 24,
      "outputs": [
        {
          "output_type": "stream",
          "name": "stdout",
          "text": [
            "(1, 2, 3)\n"
          ]
        }
      ]
    },
    {
      "cell_type": "code",
      "source": [
        "nueva_lista = list(tupla)\n",
        "print(nueva_lista)"
      ],
      "metadata": {
        "id": "JXGaDGIT9F7l",
        "outputId": "73bf24a6-d66f-4ff5-87c4-c89da084b172",
        "colab": {
          "base_uri": "https://localhost:8080/"
        }
      },
      "execution_count": 25,
      "outputs": [
        {
          "output_type": "stream",
          "name": "stdout",
          "text": [
            "[1, 2, 3]\n"
          ]
        }
      ]
    },
    {
      "cell_type": "code",
      "source": [
        "persona = (\"Nicolas\", 22, \"Colombia\")\n",
        "print(\"Nombre:\", persona[0])\n",
        "print(\"Edad:\", persona[1])\n",
        "print(\"País:\", persona[2])"
      ],
      "metadata": {
        "id": "aeX5rfW69cmN",
        "outputId": "d2dc62e5-02dd-48ee-cdf1-b112993d2dea",
        "colab": {
          "base_uri": "https://localhost:8080/"
        }
      },
      "execution_count": 27,
      "outputs": [
        {
          "output_type": "stream",
          "name": "stdout",
          "text": [
            "Nombre: Nicolas\n",
            "Edad: 22\n",
            "País: Colombia\n"
          ]
        }
      ]
    },
    {
      "cell_type": "code",
      "source": [
        "coordenadas = {}\n",
        "punto = (10, 20)\n",
        "coordenadas[punto] = \"Ubicación A\"\n",
        "print(coordenadas)"
      ],
      "metadata": {
        "id": "kpRkTg7j-VrH",
        "outputId": "7b180dde-110c-4d20-f651-7e958e41c04a",
        "colab": {
          "base_uri": "https://localhost:8080/"
        }
      },
      "execution_count": 28,
      "outputs": [
        {
          "output_type": "stream",
          "name": "stdout",
          "text": [
            "{(10, 20): 'Ubicación A'}\n"
          ]
        }
      ]
    },
    {
      "cell_type": "code",
      "source": [
        "def operaciones(a, b):\n",
        "  return a + b, a - b, a * b\n",
        "\n",
        "suma, resta, producto = operaciones(5, 3)\n",
        "print(suma, resta, producto)"
      ],
      "metadata": {
        "id": "ZKOKMEt1-wY9",
        "outputId": "c40372df-76cf-4fee-9a1a-584471f412e8",
        "colab": {
          "base_uri": "https://localhost:8080/"
        }
      },
      "execution_count": 29,
      "outputs": [
        {
          "output_type": "stream",
          "name": "stdout",
          "text": [
            "8 2 15\n"
          ]
        }
      ]
    },
    {
      "cell_type": "code",
      "source": [
        "frutas = (\"manzana\", \"pera\", \"uva\")\n",
        "for i, fruta in enumerate(frutas):\n",
        "  print(i, fruta)"
      ],
      "metadata": {
        "id": "FtIIYcE-_UoF",
        "outputId": "3466a3d3-5ee7-4d83-d0cd-cf8829e65d00",
        "colab": {
          "base_uri": "https://localhost:8080/"
        }
      },
      "execution_count": 30,
      "outputs": [
        {
          "output_type": "stream",
          "name": "stdout",
          "text": [
            "0 manzana\n",
            "1 pera\n",
            "2 uva\n"
          ]
        }
      ]
    },
    {
      "cell_type": "code",
      "source": [
        "a,b = 10,20\n",
        "a,b = b, a\n",
        "print(a,b)"
      ],
      "metadata": {
        "id": "Lt4OwM5Q_yzk",
        "outputId": "75f1b77c-8e7f-44f4-d761-4c33df142752",
        "colab": {
          "base_uri": "https://localhost:8080/"
        }
      },
      "execution_count": 31,
      "outputs": [
        {
          "output_type": "stream",
          "name": "stdout",
          "text": [
            "20 10\n"
          ]
        }
      ]
    },
    {
      "cell_type": "code",
      "source": [
        "# Ejercicio 1 – Crear una tupla\n",
        "t = (1, 2, 3, 4, 5)\n",
        "print(t) # (1, 2, 3, 4, 5)"
      ],
      "metadata": {
        "id": "nsQr734bAkFM",
        "outputId": "8b159c2f-1c0e-4c3b-d0f8-5cbb5442bb29",
        "colab": {
          "base_uri": "https://localhost:8080/"
        }
      },
      "execution_count": 32,
      "outputs": [
        {
          "output_type": "stream",
          "name": "stdout",
          "text": [
            "(1, 2, 3, 4, 5)\n"
          ]
        }
      ]
    },
    {
      "cell_type": "code",
      "source": [
        "# Ejercicio 2 – Acceder al tercer elemento\n",
        "t = (10, 20, 30, 40, 50)\n",
        "print(t[2]) # 30"
      ],
      "metadata": {
        "id": "jaXzifPoAlOU",
        "outputId": "11a19b5d-0396-4a14-e6d5-3125bf721d18",
        "colab": {
          "base_uri": "https://localhost:8080/"
        }
      },
      "execution_count": 33,
      "outputs": [
        {
          "output_type": "stream",
          "name": "stdout",
          "text": [
            "30\n"
          ]
        }
      ]
    },
    {
      "cell_type": "code",
      "source": [
        "# Ejercicio 3 – Tupla con nombre y edad\n",
        "info = (\"Nicolás\", 22)\n",
        "print(\"Nombre:\", info[0], \"Edad:\", info[1])"
      ],
      "metadata": {
        "id": "IeAKTAdmAoxU",
        "outputId": "5e40abcb-a1ed-489e-f8df-4971b0cb4d03",
        "colab": {
          "base_uri": "https://localhost:8080/"
        }
      },
      "execution_count": 34,
      "outputs": [
        {
          "output_type": "stream",
          "name": "stdout",
          "text": [
            "Nombre: Nicolás Edad: 22\n"
          ]
        }
      ]
    },
    {
      "cell_type": "code",
      "source": [
        "# Ejercicio 4 – Concatenar tuplas\n",
        "t1 = (1, 2, 3)\n",
        "t2 = (4, 5, 6)\n",
        "print(t1 + t2) # (1, 2, 3, 4, 5, 6)"
      ],
      "metadata": {
        "id": "V_fyXeQJAq18",
        "outputId": "a08eaa41-b31b-4925-d502-4e790baebf6d",
        "colab": {
          "base_uri": "https://localhost:8080/"
        }
      },
      "execution_count": 35,
      "outputs": [
        {
          "output_type": "stream",
          "name": "stdout",
          "text": [
            "(1, 2, 3, 4, 5, 6)\n"
          ]
        }
      ]
    },
    {
      "cell_type": "code",
      "source": [
        "# Ejercicio 5 – Repetir una tupla\n",
        "t = (\"Python\",) * 3\n",
        "print(t) # ('Python', 'Python', 'Python')\n",
        "# Ejercicio 6 – Verificar pertenencia\n",
        "t = (5, 10, 15, 20, 25)\n",
        "print(20 in t) # True"
      ],
      "metadata": {
        "id": "_cVIRmqcAs90",
        "outputId": "9b9a30ae-0a10-4d6e-dbe2-66b3aa1caeef",
        "colab": {
          "base_uri": "https://localhost:8080/"
        }
      },
      "execution_count": 36,
      "outputs": [
        {
          "output_type": "stream",
          "name": "stdout",
          "text": [
            "('Python', 'Python', 'Python')\n",
            "True\n"
          ]
        }
      ]
    },
    {
      "cell_type": "code",
      "source": [
        "# Ejercicio 7 – Desempaquetar tupla\n",
        "paises = (\"Colombia\", \"México\", \"Argentina\")\n",
        "a, b, c = paises\n",
        "print(a, b, c) # Colombia México Argentina"
      ],
      "metadata": {
        "id": "BpOP7-YFAu88",
        "outputId": "ab93a55c-cbb8-494d-ab24-91d4991bda4c",
        "colab": {
          "base_uri": "https://localhost:8080/"
        }
      },
      "execution_count": 37,
      "outputs": [
        {
          "output_type": "stream",
          "name": "stdout",
          "text": [
            "Colombia México Argentina\n"
          ]
        }
      ]
    },
    {
      "cell_type": "code",
      "source": [
        "# Ejercicio 8 – Tupla anidada\n",
        "t = ((1, 2), (3, 4))\n",
        "print(t[1][1]) # 4"
      ],
      "metadata": {
        "id": "xliZH-I3AxC8",
        "outputId": "82029cda-4325-48c5-b236-06950eaede1c",
        "colab": {
          "base_uri": "https://localhost:8080/"
        }
      },
      "execution_count": 38,
      "outputs": [
        {
          "output_type": "stream",
          "name": "stdout",
          "text": [
            "4\n"
          ]
        }
      ]
    },
    {
      "cell_type": "code",
      "source": [
        "# Ejercicio 9 – Función con suma y producto\n",
        "def operaciones(a, b):\n",
        "    return a+b, a*b\n",
        "print(operaciones(3, 5)) # (8, 15)"
      ],
      "metadata": {
        "id": "eMc5HqogAymk",
        "outputId": "9a7722d4-2aca-48ac-d869-3add0901dc3b",
        "colab": {
          "base_uri": "https://localhost:8080/"
        }
      },
      "execution_count": 39,
      "outputs": [
        {
          "output_type": "stream",
          "name": "stdout",
          "text": [
            "(8, 15)\n"
          ]
        }
      ]
    },
    {
      "cell_type": "code",
      "source": [
        "# Ejercicio 10 – Intercambio de valores\n",
        "a, b = 7, 9\n",
        "a, b = b, a\n",
        "print(a, b) # 9 7"
      ],
      "metadata": {
        "id": "JLUrclEYA0p0",
        "outputId": "ed3b6ae0-cac7-461b-991e-2f5ea17d8537",
        "colab": {
          "base_uri": "https://localhost:8080/"
        }
      },
      "execution_count": 40,
      "outputs": [
        {
          "output_type": "stream",
          "name": "stdout",
          "text": [
            "9 7\n"
          ]
        }
      ]
    },
    {
      "cell_type": "code",
      "source": [
        "# Ejercicio 11 – Contar apariciones\n",
        "t = (2, 4, 6, 2, 8, 2)\n",
        "print(t.count(2)) # 3"
      ],
      "metadata": {
        "id": "Oriqe1VnA3ml",
        "outputId": "a9902133-4e19-4144-dcc0-091064f87272",
        "colab": {
          "base_uri": "https://localhost:8080/"
        }
      },
      "execution_count": 41,
      "outputs": [
        {
          "output_type": "stream",
          "name": "stdout",
          "text": [
            "3\n"
          ]
        }
      ]
    },
    {
      "cell_type": "code",
      "source": [
        "# Ejercicio 12 – Índice de un valor\n",
        "t = (10, 20, 30, 40, 50)\n",
        "print(t.index(50)) # 4"
      ],
      "metadata": {
        "id": "ahgN1Sp7A6u8",
        "outputId": "6c28dba1-92fb-4e4b-c397-8c284d5d9e99",
        "colab": {
          "base_uri": "https://localhost:8080/"
        }
      },
      "execution_count": 42,
      "outputs": [
        {
          "output_type": "stream",
          "name": "stdout",
          "text": [
            "4\n"
          ]
        }
      ]
    },
    {
      "cell_type": "code",
      "source": [
        "# Ejercicio 13 – Funciones integradas\n",
        "t = (4, 7, 1, 9, 3)\n",
        "print(max(t)) # 9\n",
        "print(min(t)) # 1\n",
        "print(sum(t)) # 24"
      ],
      "metadata": {
        "id": "aZlfC5ZgA8nU",
        "outputId": "94d98f0f-ee59-4362-a863-6825d909d3ae",
        "colab": {
          "base_uri": "https://localhost:8080/"
        }
      },
      "execution_count": 43,
      "outputs": [
        {
          "output_type": "stream",
          "name": "stdout",
          "text": [
            "9\n",
            "1\n",
            "24\n"
          ]
        }
      ]
    },
    {
      "cell_type": "code",
      "source": [
        "# Ejercicio 14 – Convertir lista a tupla\n",
        "lista = [10, 20, 30]\n",
        "t = tuple(lista)\n",
        "print(t) # (10, 20, 30)"
      ],
      "metadata": {
        "id": "7hXermj9A-q0",
        "outputId": "11426cb4-f7b1-4252-eb50-8cba9e0db0a8",
        "colab": {
          "base_uri": "https://localhost:8080/"
        }
      },
      "execution_count": 44,
      "outputs": [
        {
          "output_type": "stream",
          "name": "stdout",
          "text": [
            "(10, 20, 30)\n"
          ]
        }
      ]
    },
    {
      "cell_type": "code",
      "source": [
        "# Ejercicio 15 – Enumerate con tuplas\n",
        "colores = (\"rojo\", \"verde\", \"azul\")\n",
        "for i, color in enumerate(colores):\n",
        "    print(i, color)"
      ],
      "metadata": {
        "id": "u48dJQkpBBQM",
        "outputId": "3394db24-780f-45f7-b38c-fad0baf94441",
        "colab": {
          "base_uri": "https://localhost:8080/"
        }
      },
      "execution_count": 45,
      "outputs": [
        {
          "output_type": "stream",
          "name": "stdout",
          "text": [
            "0 rojo\n",
            "1 verde\n",
            "2 azul\n"
          ]
        }
      ]
    }
  ],
  "metadata": {
    "colab": {
      "name": "Te damos la bienvenida a Colaboratory",
      "provenance": []
    },
    "kernelspec": {
      "display_name": "Python 3",
      "name": "python3"
    }
  },
  "nbformat": 4,
  "nbformat_minor": 0
}