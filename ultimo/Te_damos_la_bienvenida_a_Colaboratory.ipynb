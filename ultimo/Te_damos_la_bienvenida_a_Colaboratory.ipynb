{
  "cells": [
    {
      "cell_type": "code",
      "source": [
        "def balanceo_parentesis(expresion):\n",
        "    pila = []\n",
        "    parejas = {')': '(', ']': '[', '}': '{'}\n",
        "\n",
        "    for caracter in expresion:\n",
        "        if caracter in '([{':\n",
        "            pila.append(caracter)\n",
        "        elif caracter in ')]}':\n",
        "            if not pila or pila[-1] != parejas[caracter]:\n",
        "                return False\n",
        "            pila.pop()\n",
        "\n",
        "    return len(pila) == 0\n",
        "\n",
        "# Prueba\n",
        "print(balanceo_parentesis(\"({[]})\"))  # True\n",
        "print(balanceo_parentesis(\"({[})\"))   # False\n"
      ],
      "metadata": {
        "id": "uKl3XTWVlCWs",
        "outputId": "cf71e170-f178-4ff1-f7c0-16f1bc729a78",
        "colab": {
          "base_uri": "https://localhost:8080/"
        }
      },
      "execution_count": 15,
      "outputs": [
        {
          "output_type": "stream",
          "name": "stdout",
          "text": [
            "True\n",
            "False\n"
          ]
        }
      ]
    },
    {
      "cell_type": "code",
      "source": [
        "#2. Conversión infijo a postfijo\n",
        "#Enunciado: Convierte una expresión matemática infija a notación postfija.\n",
        "def infijo_a_postfijo(expresion):\n",
        "    precedencia = {'+': 1, '-': 1, '*': 2, '/': 2, '^': 3}\n",
        "    pila = []\n",
        "    salida = []\n",
        "\n",
        "    for token in expresion.split():\n",
        "        if token.isalnum():\n",
        "            salida.append(token)\n",
        "        elif token == '(':\n",
        "            pila.append(token)\n",
        "        elif token == ')':\n",
        "            while pila and pila[-1] != '(':\n",
        "                salida.append(pila.pop())\n",
        "            pila.pop()\n",
        "        else:\n",
        "            while (pila and pila[-1] != '(' and\n",
        "                   precedencia.get(token, 0) <= precedencia.get(pila[-1], 0)):\n",
        "                salida.append(pila.pop())\n",
        "            pila.append(token)\n",
        "\n",
        "    while pila:\n",
        "        salida.append(pila.pop())\n",
        "\n",
        "    return ' '.join(salida)\n",
        "\n",
        "# Prueba\n",
        "print(infijo_a_postfijo(\"( A + B ) * C\"))  # A B + C *\n"
      ],
      "metadata": {
        "id": "gO3TZf6jlsrD",
        "outputId": "d5e71e7b-82bc-4876-bb2a-5f1628c9bd47",
        "colab": {
          "base_uri": "https://localhost:8080/"
        }
      },
      "execution_count": 16,
      "outputs": [
        {
          "output_type": "stream",
          "name": "stdout",
          "text": [
            "A B + C *\n"
          ]
        }
      ]
    },
    {
      "cell_type": "code",
      "source": [
        "#3. Evaluar expresión postfija\n",
        "#Enunciado: Evalúa una expresión matemática en notación postfija.\n",
        "def evaluar_postfijo(expresion):\n",
        "    pila = []\n",
        "\n",
        "    for token in expresion.split():\n",
        "        if token.isdigit():\n",
        "            pila.append(int(token))\n",
        "        else:\n",
        "            b = pila.pop()\n",
        "            a = pila.pop()\n",
        "            if token == '+': pila.append(a + b)\n",
        "            elif token == '-': pila.append(a - b)\n",
        "            elif token == '*': pila.append(a * b)\n",
        "            elif token == '/': pila.append(a / b)\n",
        "\n",
        "    return pila[0]\n",
        "\n",
        "# Prueba\n",
        "print(evaluar_postfijo(\"3 4 + 2 *\"))  # 14\n"
      ],
      "metadata": {
        "id": "NhzMPHApl7iE",
        "outputId": "ad670288-28c2-4dc1-e703-312b4903a779",
        "colab": {
          "base_uri": "https://localhost:8080/"
        }
      },
      "execution_count": 19,
      "outputs": [
        {
          "output_type": "stream",
          "name": "stdout",
          "text": [
            "14\n"
          ]
        }
      ]
    },
    {
      "cell_type": "code",
      "source": [
        "#4. Invertir una lista usando pila\n",
        "#Enunciado: Invierte una lista usando operaciones de pila.\n",
        "def invertir_lista_pila(lista):\n",
        "    pila = []\n",
        "    # Push todos los elementos a la pila\n",
        "    for elemento in lista:\n",
        "        pila.append(elemento)\n",
        "\n",
        "    # Pop todos los elementos (saldrán en orden inverso)\n",
        "    lista_invertida = []\n",
        "    while pila:\n",
        "        lista_invertida.append(pila.pop())\n",
        "\n",
        "    return lista_invertida\n",
        "\n",
        "# Prueba\n",
        "print(invertir_lista_pila([1, 2, 3, 4, 5]))  # [5, 4, 3, 2, 1]\n"
      ],
      "metadata": {
        "id": "89nil3nzmMyR",
        "outputId": "727cff76-d25e-4d1e-8678-aa485fe36e49",
        "colab": {
          "base_uri": "https://localhost:8080/"
        }
      },
      "execution_count": 20,
      "outputs": [
        {
          "output_type": "stream",
          "name": "stdout",
          "text": [
            "[5, 4, 3, 2, 1]\n"
          ]
        }
      ]
    },
    {
      "cell_type": "code",
      "source": [
        "#5. Eliminar elementos consecutivos duplicados\n",
        "#Enunciado: Elimina elementos duplicados consecutivos usando una pila.\n",
        "def eliminar_consecutivos_duplicados(lista):\n",
        "    pila = []\n",
        "\n",
        "    for elemento in lista:\n",
        "        if not pila or pila[-1] != elemento:\n",
        "            pila.append(elemento)\n",
        "\n",
        "    return pila\n",
        "\n",
        "# Prueba\n",
        "print(eliminar_consecutivos_duplicados([1, 2, 2, 3, 4, 4, 4, 5]))  # [1, 2, 3, 4, 5]\n"
      ],
      "metadata": {
        "id": "CsEtAXKsmVoP",
        "outputId": "f0c3b783-d0e3-4696-b4b1-c5b6f62d5c8e",
        "colab": {
          "base_uri": "https://localhost:8080/"
        }
      },
      "execution_count": 21,
      "outputs": [
        {
          "output_type": "stream",
          "name": "stdout",
          "text": [
            "[1, 2, 3, 4, 5]\n"
          ]
        }
      ]
    },
    {
      "cell_type": "code",
      "source": [
        "#6. Siguiente elemento mayor\n",
        "#Enunciado: Para cada elemento, encuentra el primer elemento mayor a su derecha.\n",
        "def siguiente_elemento_mayor(lista):\n",
        "    pila = []\n",
        "    resultado = [-1] * len(lista)\n",
        "\n",
        "    for i in range(len(lista)):\n",
        "        while pila and lista[pila[-1]] < lista[i]:\n",
        "            idx = pila.pop()\n",
        "            resultado[idx] = lista[i]\n",
        "        pila.append(i)\n",
        "\n",
        "    return resultado\n",
        "\n",
        "# Prueba\n",
        "print(siguiente_elemento_mayor([4, 5, 2, 10]))  # [5, 10, 10, -1]\n"
      ],
      "metadata": {
        "id": "VeGS4PrqmcLC",
        "outputId": "7aa4e587-38ce-402f-d49f-a3aee6795681",
        "colab": {
          "base_uri": "https://localhost:8080/"
        }
      },
      "execution_count": 22,
      "outputs": [
        {
          "output_type": "stream",
          "name": "stdout",
          "text": [
            "[5, 10, 10, -1]\n"
          ]
        }
      ]
    },
    {
      "cell_type": "code",
      "source": [
        "#7. Validar secuencia de push/pop\n",
        "#Enunciado: Verifica si una secuencia es válida para operaciones push/pop.\n",
        "def validar_secuencia_push_pop(push_seq, pop_seq):\n",
        "    pila = []\n",
        "    i = 0\n",
        "\n",
        "    for num in push_seq:\n",
        "        pila.append(num)\n",
        "        while pila and pila[-1] == pop_seq[i]:\n",
        "            pila.pop()\n",
        "            i += 1\n",
        "\n",
        "    return not pila\n",
        "\n",
        "# Prueba\n",
        "print(validar_secuencia_push_pop([1, 2, 3, 4, 5], [4, 5, 3, 2, 1]))  # True\n"
      ],
      "metadata": {
        "id": "ZuMrh3qsmh2R",
        "outputId": "7f2e5079-c9cc-416d-f45b-20e690429410",
        "colab": {
          "base_uri": "https://localhost:8080/"
        }
      },
      "execution_count": 23,
      "outputs": [
        {
          "output_type": "stream",
          "name": "stdout",
          "text": [
            "True\n"
          ]
        }
      ]
    },
    {
      "cell_type": "code",
      "source": [
        "#8. Pila con mínimo en O(1)\n",
        "#Enunciado: Implementa una pila que devuelva el mínimo en tiempo constante.\n",
        "class PilaConMinimo:\n",
        "    def __init__(self):\n",
        "        self.pila_principal = []\n",
        "        self.pila_minimos = []\n",
        "\n",
        "    def push(self, valor):\n",
        "        self.pila_principal.append(valor)\n",
        "        if not self.pila_minimos or valor <= self.pila_minimos[-1]:\n",
        "            self.pila_minimos.append(valor)\n",
        "\n",
        "    def pop(self):\n",
        "        if not self.pila_principal:\n",
        "            return None\n",
        "        valor = self.pila_principal.pop()\n",
        "        if valor == self.pila_minimos[-1]:\n",
        "            self.pila_minimos.pop()\n",
        "        return valor\n",
        "\n",
        "    def min(self):\n",
        "        return self.pila_minimos[-1] if self.pila_minimos else None\n",
        "\n",
        "# Prueba\n",
        "pila = PilaConMinimo()\n",
        "pila.push(3)\n",
        "pila.push(1)\n",
        "pila.push(2)\n",
        "print(pila.min())  # 1\n"
      ],
      "metadata": {
        "id": "O3SeGLeTmorX",
        "outputId": "68cfe12e-2cf0-4ecc-b02d-6336d8261cba",
        "colab": {
          "base_uri": "https://localhost:8080/"
        }
      },
      "execution_count": 24,
      "outputs": [
        {
          "output_type": "stream",
          "name": "stdout",
          "text": [
            "1\n"
          ]
        }
      ]
    },
    {
      "cell_type": "code",
      "source": [
        "#9. Dos pilas en un array\n",
        "#Enunciado: Implementa dos pilas usando un solo array.\n",
        "class DosPilas:\n",
        "    def __init__(self, capacidad):\n",
        "        self.capacidad = capacidad\n",
        "        self.array = [None] * capacidad\n",
        "        self.top1 = -1\n",
        "        self.top2 = capacidad\n",
        "\n",
        "    def push1(self, valor):\n",
        "        if self.top1 < self.top2 - 1:\n",
        "            self.top1 += 1\n",
        "            self.array[self.top1] = valor\n",
        "        else:\n",
        "            print(\"Pila 1 llena\")\n",
        "\n",
        "    def push2(self, valor):\n",
        "        if self.top1 < self.top2 - 1:\n",
        "            self.top2 -= 1\n",
        "            self.array[self.top2] = valor\n",
        "        else:\n",
        "            print(\"Pila 2 llena\")\n",
        "\n",
        "    def pop1(self):\n",
        "        if self.top1 >= 0:\n",
        "            valor = self.array[self.top1]\n",
        "            self.top1 -= 1\n",
        "            return valor\n",
        "        return None\n",
        "\n",
        "    def pop2(self):\n",
        "        if self.top2 < self.capacidad:\n",
        "            valor = self.array[self.top2]\n",
        "            self.top2 += 1\n",
        "            return valor\n",
        "        return None\n",
        "\n",
        "# Prueba\n",
        "pilas = DosPilas(5)\n",
        "pilas.push1(1)\n",
        "pilas.push2(2)\n",
        "print(pilas.pop1())  # 1\n"
      ],
      "metadata": {
        "id": "Q3-Dlc5Vmuac",
        "outputId": "62228863-0a12-4b7e-f445-b8daed4efb53",
        "colab": {
          "base_uri": "https://localhost:8080/"
        }
      },
      "execution_count": 25,
      "outputs": [
        {
          "output_type": "stream",
          "name": "stdout",
          "text": [
            "1\n"
          ]
        }
      ]
    },
    {
      "cell_type": "code",
      "source": [
        "#10. Ordenar pila\n",
        "#Enunciado: Ordena una pila usando solo operaciones de pila.\n",
        "def ordenar_pila(pila):\n",
        "    pila_temp = []\n",
        "\n",
        "    while pila:\n",
        "        temp = pila.pop()\n",
        "        while pila_temp and pila_temp[-1] > temp:\n",
        "            pila.append(pila_temp.pop())\n",
        "        pila_temp.append(temp)\n",
        "\n",
        "    return pila_temp\n",
        "\n",
        "# Prueba\n",
        "pila = [3, 1, 4, 2]\n",
        "print(ordenar_pila(pila))  # [1, 2, 3, 4]\n"
      ],
      "metadata": {
        "id": "ID5tiiVtnDkF",
        "outputId": "0d0ea0c0-bfb4-435d-895a-6d6ac008b202",
        "colab": {
          "base_uri": "https://localhost:8080/"
        }
      },
      "execution_count": 29,
      "outputs": [
        {
          "output_type": "stream",
          "name": "stdout",
          "text": [
            "[1, 2, 3, 4]\n"
          ]
        }
      ]
    },
    {
      "cell_type": "code",
      "source": [
        "##COLAS (10 ejercicios)\n",
        "#11. Implementar cola usando pilas\n",
        "#Enunciado: Implementa una cola usando dos pilas.\n",
        "class ColaConPilas:\n",
        "    def __init__(self):\n",
        "        self.entrada = []\n",
        "        self.salida = []\n",
        "\n",
        "    def enqueue(self, valor):\n",
        "        self.entrada.append(valor)\n",
        "\n",
        "    def dequeue(self):\n",
        "        if not self.salida:\n",
        "            while self.entrada:\n",
        "                self.salida.append(self.entrada.pop())\n",
        "        return self.salida.pop() if self.salida else None\n",
        "\n",
        "    def front(self):\n",
        "        if not self.salida:\n",
        "            while self.entrada:\n",
        "                self.salida.append(self.entrada.pop())\n",
        "        return self.salida[-1] if self.salida else None\n",
        "\n",
        "# Prueba\n",
        "cola = ColaConPilas()\n",
        "cola.enqueue(1)\n",
        "cola.enqueue(2)\n",
        "print(cola.dequeue())  # 1\n"
      ],
      "metadata": {
        "id": "-JPAIhMpnJYB",
        "outputId": "27f9b1c4-e4ce-494a-f1cd-7148148267c4",
        "colab": {
          "base_uri": "https://localhost:8080/"
        }
      },
      "execution_count": 30,
      "outputs": [
        {
          "output_type": "stream",
          "name": "stdout",
          "text": [
            "1\n"
          ]
        }
      ]
    },
    {
      "cell_type": "code",
      "source": [
        "#12. Cola circular\n",
        "#Enunciado: Implementa una cola circular con array de tamaño fijo.\n",
        "class ColaCircular:\n",
        "    def __init__(self, capacidad):\n",
        "        self.capacidad = capacidad\n",
        "        self.cola = [None] * capacidad\n",
        "        self.frente = 0\n",
        "        self.final = -1\n",
        "        self.tamaño = 0\n",
        "\n",
        "    def enqueue(self, valor):\n",
        "        if self.tamaño == self.capacidad:\n",
        "            return False\n",
        "        self.final = (self.final + 1) % self.capacidad\n",
        "        self.cola[self.final] = valor\n",
        "        self.tamaño += 1\n",
        "        return True\n",
        "\n",
        "    def dequeue(self):\n",
        "        if self.tamaño == 0:\n",
        "            return None\n",
        "        valor = self.cola[self.frente]\n",
        "        self.frente = (self.frente + 1) % self.capacidad\n",
        "        self.tamaño -= 1\n",
        "        return valor\n",
        "\n",
        "    def front(self):\n",
        "        return self.cola[self.frente] if self.tamaño > 0 else None\n",
        "\n",
        "# Prueba\n",
        "cola = ColaCircular(3)\n",
        "cola.enqueue(1)\n",
        "cola.enqueue(2)\n",
        "print(cola.dequeue())  # 1\n"
      ],
      "metadata": {
        "id": "8BR-Hx3EnSST",
        "outputId": "89adbc0a-b430-4971-9ea2-296e830735c5",
        "colab": {
          "base_uri": "https://localhost:8080/"
        }
      },
      "execution_count": 31,
      "outputs": [
        {
          "output_type": "stream",
          "name": "stdout",
          "text": [
            "1\n"
          ]
        }
      ]
    },
    {
      "cell_type": "code",
      "source": [
        "#13. Revertir primeros k elementos\n",
        "#Enunciado: Invierte los primeros k elementos de una cola.\n",
        "def revertir_primeros_k(cola, k):\n",
        "    pila = []\n",
        "\n",
        "    # Sacar primeros k elementos a la pila\n",
        "    for _ in range(k):\n",
        "        pila.append(cola.dequeue())\n",
        "\n",
        "    # Devolver de la pila a la cola (invertidos)\n",
        "    while pila:\n",
        "        cola.enqueue(pila.pop())\n",
        "\n",
        "    # Mover los elementos restantes al final\n",
        "    for _ in range(len(cola) - k):\n",
        "        cola.enqueue(cola.dequeue())\n",
        "\n",
        "    return cola\n",
        "\n",
        "# Prueba (asumiendo implementación básica de cola)\n",
        "class ColaSimple:\n",
        "    def __init__(self):\n",
        "        self.elementos = []\n",
        "\n",
        "    def enqueue(self, valor):\n",
        "        self.elementos.append(valor)\n",
        "\n",
        "    def dequeue(self):\n",
        "        return self.elementos.pop(0) if self.elementos else None\n",
        "\n",
        "    def __len__(self):\n",
        "        return len(self.elementos)\n",
        "\n",
        "cola = ColaSimple()\n",
        "for i in range(1, 6):\n",
        "    cola.enqueue(i)\n",
        "revertir_primeros_k(cola, 3)\n"
      ],
      "metadata": {
        "id": "hB2OmBbinbHm",
        "outputId": "328643f7-bfd6-448f-f904-196ef0ddcb7b",
        "colab": {
          "base_uri": "https://localhost:8080/"
        }
      },
      "execution_count": 32,
      "outputs": [
        {
          "output_type": "execute_result",
          "data": {
            "text/plain": [
              "<__main__.ColaSimple at 0x7ccc77f3b9b0>"
            ]
          },
          "metadata": {},
          "execution_count": 32
        }
      ]
    },
    {
      "cell_type": "code",
      "source": [
        "#14. Generar números binarios\n",
        "#Enunciado: Genera los primeros n números binarios usando una cola.\n",
        "def generar_numeros_binarios(n):\n",
        "    if n <= 0:\n",
        "        return []\n",
        "\n",
        "    resultado = []\n",
        "    cola = []\n",
        "    cola.append(\"1\")\n",
        "\n",
        "    for _ in range(n):\n",
        "        actual = cola.pop(0)\n",
        "        resultado.append(actual)\n",
        "        cola.append(actual + \"0\")\n",
        "        cola.append(actual + \"1\")\n",
        "\n",
        "    return resultado\n",
        "\n",
        "# Prueba\n",
        "print(generar_numeros_binarios(5))  # ['1', '10', '11', '100', '101']\n"
      ],
      "metadata": {
        "id": "dkq2xtKnnhjE",
        "outputId": "80b78efc-b97b-4039-b00c-86172b3fea11",
        "colab": {
          "base_uri": "https://localhost:8080/"
        }
      },
      "execution_count": 33,
      "outputs": [
        {
          "output_type": "stream",
          "name": "stdout",
          "text": [
            "['1', '10', '11', '100', '101']\n"
          ]
        }
      ]
    },
    {
      "cell_type": "code",
      "source": [
        "#15. Cola de prioridad simple\n",
        "#Enunciado: Implementa una cola de prioridad usando listas.\n",
        "class ColaPrioridadSimple:\n",
        "    def __init__(self):\n",
        "        self.elementos = []\n",
        "\n",
        "    def enqueue(self, valor, prioridad):\n",
        "        self.elementos.append((valor, prioridad))\n",
        "        # Ordenar por prioridad (menor número = mayor prioridad)\n",
        "        self.elementos.sort(key=lambda x: x[1])\n",
        "\n",
        "    def dequeue(self):\n",
        "        if not self.elementos:\n",
        "            return None\n",
        "        return self.elementos.pop(0)[0]\n",
        "\n",
        "    def front(self):\n",
        "        return self.elementos[0][0] if self.elementos else None\n",
        "\n",
        "# Prueba\n",
        "cp = ColaPrioridadSimple()\n",
        "cp.enqueue(\"tarea1\", 2)\n",
        "cp.enqueue(\"tarea2\", 1)\n",
        "print(cp.dequeue())  # tarea2\n"
      ],
      "metadata": {
        "id": "9221OdOpnnkj",
        "outputId": "46f1325f-3d37-4640-e3d7-d53b5bbcab6a",
        "colab": {
          "base_uri": "https://localhost:8080/"
        }
      },
      "execution_count": 34,
      "outputs": [
        {
          "output_type": "stream",
          "name": "stdout",
          "text": [
            "tarea2\n"
          ]
        }
      ]
    }
  ],
  "metadata": {
    "colab": {
      "name": "Te damos la bienvenida a Colaboratory",
      "provenance": []
    },
    "kernelspec": {
      "display_name": "Python 3",
      "name": "python3"
    }
  },
  "nbformat": 4,
  "nbformat_minor": 0
}