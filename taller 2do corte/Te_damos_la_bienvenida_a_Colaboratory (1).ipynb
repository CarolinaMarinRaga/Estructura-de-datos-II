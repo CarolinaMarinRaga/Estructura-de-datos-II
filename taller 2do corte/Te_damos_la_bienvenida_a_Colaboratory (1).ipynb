{
  "cells": [
    {
      "cell_type": "code",
      "source": [
        "compras = [\"Leche\", \"Pan\"]\n",
        "compras.append(\"Huevos\")\n",
        "compras.pop(1)\n",
        "\n",
        "print(compras)"
      ],
      "metadata": {
        "id": "QzVzlWSw63HK",
        "outputId": "2be72f5e-0eb5-4bee-a71c-7d722cc4a605",
        "colab": {
          "base_uri": "https://localhost:8080/"
        }
      },
      "execution_count": 1,
      "outputs": [
        {
          "output_type": "stream",
          "name": "stdout",
          "text": [
            "['Leche', 'Huevos']\n"
          ]
        }
      ]
    },
    {
      "cell_type": "code",
      "source": [
        "Nombre = input(\"Ingrese su nombre: \")\n",
        "print(Nombre)\n",
        "Edad = input(\"Ingrese su edad: \")\n",
        "print(Edad)\n",
        "\n",
        "# Crear el diccionario con nombre y edad\n",
        "Usuario = {\n",
        "    \"Nombre\": Nombre,\n",
        "    \"Edad\": Edad\n",
        "}\n",
        "\n",
        "# Mostrar el diccionario\n",
        "print(Usuario)\n",
        "\n",
        "# Actualizar la edad del usuario\n",
        "Edad = input(\"Ingrese su nueva edad: \")\n",
        "Usuario[\"Edad\"] = Edad\n",
        "\n",
        "# Añadir una nueva clave \"Ciudad\"\n",
        "Ciudad = input(\"Ingrese su Ciudad: \")\n",
        "Usuario[\"Ciudad\"] = Ciudad\n",
        "\n",
        "# Mostrar el diccionario actualizado\n",
        "print(\"Diccionario actualizado: \", Usuario)\n"
      ],
      "metadata": {
        "id": "SF9pB8Ox8F90",
        "outputId": "4c35c399-2723-4acb-ed7f-69aa4713535b",
        "colab": {
          "base_uri": "https://localhost:8080/"
        }
      },
      "execution_count": 6,
      "outputs": [
        {
          "output_type": "stream",
          "name": "stdout",
          "text": [
            "Ingrese su nombre: carolina\n",
            "carolina\n",
            "Ingrese su edad: 26\n",
            "26\n",
            "{'Nombre': 'carolina', 'Edad': '26'}\n",
            "Ingrese su nueva edad: 27\n",
            "Ingrese su Ciudad: medellin\n",
            "Diccionario actualizado:  {'Nombre': 'carolina', 'Edad': '27', 'Ciudad': 'medellin'}\n"
          ]
        }
      ]
    },
    {
      "cell_type": "code",
      "source": [
        "# Almacenar las coordenadas en una tupla\n",
        "coordenadas = (40.4168, -3.7038)\n",
        "\n",
        "# Desempaquetar la tupla en dos variables\n",
        "latitud, longitud = coordenadas\n",
        "\n",
        "# Imprimir los valores\n",
        "print(\"Latitud:\", latitud)\n",
        "print(\"Longitud:\", longitud)\n"
      ],
      "metadata": {
        "id": "K6U8Qu0T-dfI",
        "outputId": "af23ba52-05e9-44c0-cc29-5c0435a9dfae",
        "colab": {
          "base_uri": "https://localhost:8080/"
        }
      },
      "execution_count": 7,
      "outputs": [
        {
          "output_type": "stream",
          "name": "stdout",
          "text": [
            "Latitud: 40.4168\n",
            "Longitud: -3.7038\n"
          ]
        }
      ]
    },
    {
      "cell_type": "code",
      "source": [
        "#Almacenar las temperaturas en una lista\n",
        "Temperaturas = [22.5, 24.0, 21.8, 25.1, 23.9, 22.7, 21.5]\n",
        "\n",
        "# Calcular el promedio\n",
        "Promedio = sum(Temperaturas) / len(Temperaturas)\n",
        "\n",
        "# Mostrar el promedio\n",
        "print(\"El promedio de las temperaturas es:\", round(Promedio, 2), \"°C\")"
      ],
      "metadata": {
        "id": "S5yqPqtF-zBg",
        "outputId": "6d220c20-bada-4cc8-caf7-1f51f0820ae6",
        "colab": {
          "base_uri": "https://localhost:8080/"
        }
      },
      "execution_count": 8,
      "outputs": [
        {
          "output_type": "stream",
          "name": "stdout",
          "text": [
            "El promedio de las temperaturas es: 23.07 °C\n"
          ]
        }
      ]
    },
    {
      "cell_type": "code",
      "source": [
        "# Diccionario inglés - español\n",
        "traductor = {\n",
        "    \"hello\": \"hola\",\n",
        "    \"goodbye\": \"adiós\",\n",
        "    \"thank you\": \"gracias\",\n",
        "    \"please\": \"por favor\",\n",
        "    \"cat\": \"gato\",\n",
        "    \"dog\": \"perro\"\n",
        "}\n",
        "\n",
        "# Pedir palabra en inglés\n",
        "palabra = input(\"Ingresa una palabra en inglés: \").lower()\n",
        "\n",
        "# Buscar y mostrar la traducción si existe\n",
        "if palabra in traductor:\n",
        "    print(f\"La traducción de '{palabra}' es: {traductor[palabra]}\")\n",
        "else:\n",
        "    print(\"Lo siento, esa palabra no está en el diccionario.\")\n"
      ],
      "metadata": {
        "id": "siJJIxsN_ZxQ",
        "outputId": "3340d6f5-c02d-4a4d-a781-778bd117af9f",
        "colab": {
          "base_uri": "https://localhost:8080/"
        }
      },
      "execution_count": 9,
      "outputs": [
        {
          "output_type": "stream",
          "name": "stdout",
          "text": [
            "Ingresa una palabra en inglés: cat\n",
            "La traducción de 'cat' es: gato\n"
          ]
        }
      ]
    },
    {
      "cell_type": "code",
      "source": [
        "# Tupla de tuplas con materia y hora\n",
        "horario = (\n",
        "    (\"Matemáticas\", \"08:00 - 09:00\"),\n",
        "    (\"Historia\", \"09:15 - 10:15\"),\n",
        "    (\"Ciencias\", \"10:30 - 11:30\"),\n",
        "    (\"Inglés\", \"11:45 - 12:45\"),\n",
        "    (\"Educación Física\", \"13:00 - 14:00\")\n",
        ")\n",
        "\n",
        "# Recorrer e imprimir el horario\n",
        "for materia, hora in horario:\n",
        "    print(f\"Clase: {materia} | Hora: {hora}\")\n"
      ],
      "metadata": {
        "id": "jxLZQmUP_3Ef",
        "outputId": "1f9b585a-0d0b-41c6-858f-6baf371957b3",
        "colab": {
          "base_uri": "https://localhost:8080/"
        }
      },
      "execution_count": 10,
      "outputs": [
        {
          "output_type": "stream",
          "name": "stdout",
          "text": [
            "Clase: Matemáticas | Hora: 08:00 - 09:00\n",
            "Clase: Historia | Hora: 09:15 - 10:15\n",
            "Clase: Ciencias | Hora: 10:30 - 11:30\n",
            "Clase: Inglés | Hora: 11:45 - 12:45\n",
            "Clase: Educación Física | Hora: 13:00 - 14:00\n"
          ]
        }
      ]
    },
    {
      "cell_type": "code",
      "source": [
        "# Listas de invitados\n",
        "invitados_dia = [\"Ana\", \"Luis\", \"Marta\", \"Pedro\"]\n",
        "invitados_noche = [\"Luis\", \"Sofía\", \"Ana\", \"Juan\"]\n",
        "\n",
        "# Combinar listas y eliminar duplicados\n",
        "invitados_unicos = list(set(invitados_dia + invitados_noche))\n",
        "\n",
        "# Mostrar la lista combinada\n",
        "print(\"Lista combinada sin repetidos:\", invitados_unicos)\n"
      ],
      "metadata": {
        "id": "yVGTPH-kAXVw",
        "outputId": "0765b170-23cb-4ea0-9f72-6c068ae16f94",
        "colab": {
          "base_uri": "https://localhost:8080/"
        }
      },
      "execution_count": 11,
      "outputs": [
        {
          "output_type": "stream",
          "name": "stdout",
          "text": [
            "Lista combinada sin repetidos: ['Juan', 'Luis', 'Pedro', 'Ana', 'Sofía', 'Marta']\n"
          ]
        }
      ]
    },
    {
      "cell_type": "code",
      "source": [
        "# Lista de diccionarios que representa el inventario\n",
        "inventario = [\n",
        "    {\"nombre\": \"manzana\", \"precio\": 0.5, \"stock\": 100},\n",
        "    {\"nombre\": \"banana\", \"precio\": 0.3, \"stock\": 150},\n",
        "    {\"nombre\": \"naranja\", \"precio\": 0.7, \"stock\": 80},\n",
        "    {\"nombre\": \"pera\", \"precio\": 0.6, \"stock\": 50}\n",
        "]\n",
        "\n",
        "# Función para buscar producto por nombre\n",
        "def buscar_producto(nombre_producto):\n",
        "    for producto in inventario:\n",
        "        if producto[\"nombre\"].lower() == nombre_producto.lower():\n",
        "            return producto\n",
        "    return None  # Si no se encuentra el producto\n",
        "\n",
        "# Pedir al usuario el nombre del producto a buscar\n",
        "nombre = input(\"Ingrese el nombre del producto que desea buscar: \")\n",
        "\n",
        "# Buscar el producto y mostrar resultado\n",
        "resultado = buscar_producto(nombre)\n",
        "if resultado:\n",
        "    print(\"Producto encontrado:\")\n",
        "    print(f\"Nombre: {resultado['nombre']}\")\n",
        "    print(f\"Precio: ${resultado['precio']}\")\n",
        "    print(f\"Stock: {resultado['stock']} unidades\")\n",
        "else:\n",
        "    print(\"Producto no encontrado en el inventario.\")\n"
      ],
      "metadata": {
        "id": "5AT_DzFIBUXw",
        "outputId": "6211bf97-2bf2-483b-ea03-ed16c7a9c26a",
        "colab": {
          "base_uri": "https://localhost:8080/"
        }
      },
      "execution_count": 12,
      "outputs": [
        {
          "output_type": "stream",
          "name": "stdout",
          "text": [
            "Ingrese el nombre del producto que desea buscar: banana\n",
            "Producto encontrado:\n",
            "Nombre: banana\n",
            "Precio: $0.3\n",
            "Stock: 150 unidades\n"
          ]
        }
      ]
    },
    {
      "cell_type": "code",
      "source": [
        "# Diccionario con estudiantes y sus listas de notas\n",
        "estudiantes = {\n",
        "    \"Ana\": [8.5, 7.0, 9.0],\n",
        "    \"Luis\": [6.0, 7.5, 8.0],\n",
        "    \"Marta\": [9.0, 9.5, 10.0]\n",
        "}\n",
        "\n",
        "# Pedir el nombre del estudiante y la nueva nota\n",
        "nombre_estudiante = input(\"Ingrese el nombre del estudiante: \")\n",
        "nueva_nota = float(input(\"Ingrese la nueva nota: \"))\n",
        "\n",
        "# Verificar si el estudiante existe y añadir la nota\n",
        "if nombre_estudiante in estudiantes:\n",
        "    estudiantes[nombre_estudiante].append(nueva_nota)\n",
        "    print(f\"Nota añadida a {nombre_estudiante}.\")\n",
        "else:\n",
        "    print(\"El estudiante no existe en el diccionario.\")\n",
        "\n",
        "# Mostrar el diccionario actualizado\n",
        "print(estudiantes)\n"
      ],
      "metadata": {
        "id": "GkvnJ9HzCvoH",
        "outputId": "25e54ec3-cd88-4c50-e861-65403967cdea",
        "colab": {
          "base_uri": "https://localhost:8080/"
        }
      },
      "execution_count": 14,
      "outputs": [
        {
          "output_type": "stream",
          "name": "stdout",
          "text": [
            "Ingrese el nombre del estudiante: Ana\n",
            "Ingrese la nueva nota: 2.0\n",
            "Nota añadida a Ana.\n",
            "{'Ana': [8.5, 7.0, 9.0, 2.0], 'Luis': [6.0, 7.5, 8.0], 'Marta': [9.0, 9.5, 10.0]}\n"
          ]
        }
      ]
    },
    {
      "cell_type": "code",
      "source": [
        "# Lista original de números\n",
        "numeros = [1, 2, 3, 4, 5, 6, 7, 8, 9, 10]\n",
        "\n",
        "# Crear una nueva lista solo con números pares usando lista por comprensión\n",
        "numeros_pares = [num for num in numeros if num % 2 == 0]\n",
        "\n",
        "# Mostrar la nueva lista\n",
        "print(\"Números pares:\", numeros_pares)\n"
      ],
      "metadata": {
        "id": "2stbaYTSDRLm",
        "outputId": "f9829759-346b-4f3c-e65d-1fa6fcbfea41",
        "colab": {
          "base_uri": "https://localhost:8080/"
        }
      },
      "execution_count": 15,
      "outputs": [
        {
          "output_type": "stream",
          "name": "stdout",
          "text": [
            "Números pares: [2, 4, 6, 8, 10]\n"
          ]
        }
      ]
    },
    {
      "cell_type": "code",
      "source": [
        "# Lista de diccionarios con estudiantes\n",
        "estudiantes = [\n",
        "    {\"nombre\": \"Ana\", \"promedio\": 4.5, \"curso\": \"10A\"},\n",
        "    {\"nombre\": \"Luis\", \"promedio\": 3.8, \"curso\": \"10B\"},\n",
        "    {\"nombre\": \"Marta\", \"promedio\": 4.8, \"curso\": \"10A\"},\n",
        "    {\"nombre\": \"Pedro\", \"promedio\": 3.9, \"curso\": \"10C\"},\n",
        "    {\"nombre\": \"Sofía\", \"promedio\": 4.2, \"curso\": \"10B\"}\n",
        "]\n",
        "\n",
        "# Crear nueva lista con nombres de estudiantes con promedio > 4.0\n",
        "estudiantes_destacados = [est[\"nombre\"] for est in estudiantes if est[\"promedio\"] > 4.0]\n",
        "\n",
        "# Mostrar la lista resultante\n",
        "print(\"Estudiantes con promedio superior a 4.0:\", estudiantes_destacados)\n"
      ],
      "metadata": {
        "id": "vEjBZEjyD-pG",
        "outputId": "9c43e54e-a104-4968-c9ad-820b44120bd6",
        "colab": {
          "base_uri": "https://localhost:8080/"
        }
      },
      "execution_count": 16,
      "outputs": [
        {
          "output_type": "stream",
          "name": "stdout",
          "text": [
            "Estudiantes con promedio superior a 4.0: ['Ana', 'Marta', 'Sofía']\n"
          ]
        }
      ]
    },
    {
      "cell_type": "code",
      "source": [
        "# Lista de tuplas con ventas (producto, categoría, monto)\n",
        "ventas = [\n",
        "    (\"Laptop\", \"Electrónica\", 1500),\n",
        "    (\"Camisa\", \"Ropa\", 80),\n",
        "    (\"Mouse\", \"Electrónica\", 50),\n",
        "    (\"Pantalón\", \"Ropa\", 120),\n",
        "    (\"Teclado\", \"Electrónica\", 70)\n",
        "]\n",
        "\n",
        "# Diccionario para almacenar total por categoría\n",
        "total_ventas_categoria = {}\n",
        "\n",
        "# Recorrer las ventas y acumular montos por categoría\n",
        "for producto, categoria, monto in ventas:\n",
        "    if categoria in total_ventas_categoria:\n",
        "        total_ventas_categoria[categoria] += monto\n",
        "    else:\n",
        "        total_ventas_categoria[categoria] = monto\n",
        "\n",
        "# Mostrar resultado\n",
        "print(\"Total de ventas por categoría:\")\n",
        "for categoria, total in total_ventas_categoria.items():\n",
        "    print(f\"{categoria}: ${total}\")\n"
      ],
      "metadata": {
        "id": "-Ffy9di5EM-F",
        "outputId": "b8e9c89d-30e9-4ac8-951b-a82a8266174c",
        "colab": {
          "base_uri": "https://localhost:8080/"
        }
      },
      "execution_count": 17,
      "outputs": [
        {
          "output_type": "stream",
          "name": "stdout",
          "text": [
            "Total de ventas por categoría:\n",
            "Electrónica: $1620\n",
            "Ropa: $200\n"
          ]
        }
      ]
    },
    {
      "cell_type": "code",
      "source": [
        "libro = {\n",
        "    \"titulo\": \"Python para Todos\",\n",
        "    \"año\": 2024,\n",
        "    \"autores\": [\n",
        "        {\"nombre\": \"Raúl\", \"nacionalidad\": \"Española\"},\n",
        "        {\"nombre\": \"Laura\", \"nacionalidad\": \"Mexicana\"}\n",
        "    ],\n",
        "    \"editorial\": \"Ediciones Código\"\n",
        "}\n",
        "\n",
        "# Crear lista solo con los nombres de los autores\n",
        "nombres_autores = [autor[\"nombre\"] for autor in libro[\"autores\"]]\n",
        "\n",
        "# Mostrar la lista de nombres\n",
        "print(\"Nombres de los autores:\", nombres_autores)\n"
      ],
      "metadata": {
        "id": "gmbyfMuTEXYd",
        "outputId": "f4e52d17-9d12-4000-9db9-4225499e0307",
        "colab": {
          "base_uri": "https://localhost:8080/"
        }
      },
      "execution_count": 19,
      "outputs": [
        {
          "output_type": "stream",
          "name": "stdout",
          "text": [
            "Nombres de los autores: ['Raúl', 'Laura']\n"
          ]
        }
      ]
    },
    {
      "cell_type": "code",
      "source": [
        "productos = {\n",
        "    101: \"Leche\",\n",
        "    102: \"Pan\",\n",
        "    103: \"Huevos\"\n",
        "}\n",
        "\n",
        "precios = {\n",
        "    101: 4500,\n",
        "    102: 2500,\n",
        "    103: 8000\n",
        "}\n",
        "\n",
        "ventas_del_dia = [\n",
        "    (101, 5),  # Se vendieron 5 unidades de Leche\n",
        "    (102, 10), # Se vendieron 10 unidades de Pan\n",
        "    (101, 3),  # Se vendieron otras 3 unidades de Leche\n",
        "    (103, 2)   # Se vendieron 2 unidades de Huevos\n",
        "]\n",
        "\n",
        "# Calcular ingreso total\n",
        "ingreso_total = 0\n",
        "\n",
        "for producto_id, cantidad in ventas_del_dia:\n",
        "    precio_unitario = precios.get(producto_id, 0)\n",
        "    ingreso_total += precio_unitario * cantidad\n",
        "\n",
        "print(f\"Ingreso total del día: ${ingreso_total}\")\n"
      ],
      "metadata": {
        "id": "Q5mMcebaEa8W",
        "outputId": "9ce2584b-82be-4229-edd4-87655f164108",
        "colab": {
          "base_uri": "https://localhost:8080/"
        }
      },
      "execution_count": 20,
      "outputs": [
        {
          "output_type": "stream",
          "name": "stdout",
          "text": [
            "Ingreso total del día: $77000\n"
          ]
        }
      ]
    }
  ],
  "metadata": {
    "colab": {
      "name": "Te damos la bienvenida a Colaboratory",
      "provenance": []
    },
    "kernelspec": {
      "display_name": "Python 3",
      "name": "python3"
    }
  },
  "nbformat": 4,
  "nbformat_minor": 0
}