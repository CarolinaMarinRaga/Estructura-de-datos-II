{
  "nbformat": 4,
  "nbformat_minor": 0,
  "metadata": {
    "colab": {
      "provenance": []
    },
    "kernelspec": {
      "name": "python3",
      "display_name": "Python 3"
    },
    "language_info": {
      "name": "python"
    }
  },
  "cells": [
    {
      "cell_type": "code",
      "execution_count": 13,
      "metadata": {
        "colab": {
          "base_uri": "https://localhost:8080/"
        },
        "id": "D9rcR0ZVsybn",
        "outputId": "01b43204-d76c-4cc0-9ba3-2b57d43ce0b2"
      },
      "outputs": [
        {
          "output_type": "stream",
          "name": "stdout",
          "text": [
            "Mis cosas favoritas ['Familia', 'Baloncesto', 'Comida']\n",
            "Familia\n",
            "Baloncesto\n",
            "Comida\n"
          ]
        }
      ],
      "source": [
        "mylist=[\"Familia\",\"Baloncesto\",\"Comida\"]\n",
        "print(\"Mis cosas favoritas\", mylist)\n",
        "\n",
        "for Item in mylist:\n",
        "    print(Item)"
      ]
    },
    {
      "cell_type": "code",
      "source": [
        "otra_lista=[\"tatuajes\",\"deporte\",\"peliculas\"]\n",
        "print(otra_lista)\n",
        "\n",
        "print(\"0\", otra_lista[0])\n",
        "print(\"1\", otra_lista[1])\n",
        "print(\"2\", otra_lista[2])"
      ],
      "metadata": {
        "colab": {
          "base_uri": "https://localhost:8080/"
        },
        "id": "WQjIuaDKvqOO",
        "outputId": "754f5071-f537-42bb-9675-dc627ce26a53"
      },
      "execution_count": 17,
      "outputs": [
        {
          "output_type": "stream",
          "name": "stdout",
          "text": [
            "['tatuajes', 'deporte', 'peliculas']\n",
            "0 tatuajes\n",
            "1 deporte\n",
            "2 peliculas\n"
          ]
        }
      ]
    },
    {
      "cell_type": "code",
      "source": [
        "otra_lista=[\"lakers\",\"warriors\",\"celtics\"]\n",
        "print(otra_lista[-1])"
      ],
      "metadata": {
        "colab": {
          "base_uri": "https://localhost:8080/"
        },
        "id": "3_CeshcexbfO",
        "outputId": "dcb2143e-e256-4b41-e70c-59fd01cb8e5e"
      },
      "execution_count": 19,
      "outputs": [
        {
          "output_type": "stream",
          "name": "stdout",
          "text": [
            "celtics\n"
          ]
        }
      ]
    },
    {
      "cell_type": "code",
      "source": [
        "edades=[15,26,58,33]\n",
        "for edad in edades:\n",
        "    print(edad)"
      ],
      "metadata": {
        "colab": {
          "base_uri": "https://localhost:8080/"
        },
        "id": "Y_X8fVNFzpUP",
        "outputId": "5693e1ef-65d4-4fa2-c8c5-6c70204e3d5a"
      },
      "execution_count": 20,
      "outputs": [
        {
          "output_type": "stream",
          "name": "stdout",
          "text": [
            "15\n",
            "26\n",
            "58\n",
            "33\n"
          ]
        }
      ]
    },
    {
      "cell_type": "code",
      "source": [
        "edades=[15,26,58,33]\n",
        "for i in range(len(edades)):\n",
        "    print(edades[i])"
      ],
      "metadata": {
        "colab": {
          "base_uri": "https://localhost:8080/"
        },
        "id": "FM_CSexzz2Zh",
        "outputId": "fd6031a7-cff5-41b6-a350-69a7cc1af3f9"
      },
      "execution_count": 21,
      "outputs": [
        {
          "output_type": "stream",
          "name": "stdout",
          "text": [
            "15\n",
            "26\n",
            "58\n",
            "33\n"
          ]
        }
      ]
    },
    {
      "cell_type": "code",
      "source": [
        "edades=[20,41,6,18,23]\n",
        "indice=0\n",
        "while indice<len(edades):\n",
        "    print(edades[indice])\n",
        "    indice+=1"
      ],
      "metadata": {
        "colab": {
          "base_uri": "https://localhost:8080/"
        },
        "id": "CktRbW1C1Hsm",
        "outputId": "ebedd68e-376c-4c50-e0ac-a02ac710a31a"
      },
      "execution_count": 27,
      "outputs": [
        {
          "output_type": "stream",
          "name": "stdout",
          "text": [
            "20\n",
            "41\n",
            "6\n",
            "18\n",
            "23\n"
          ]
        }
      ]
    },
    {
      "cell_type": "code",
      "source": [
        "edades=[20,41,6,18,23]\n",
        "edades.append(8)\n",
        "edades.append(37)\n",
        "print(edades)"
      ],
      "metadata": {
        "colab": {
          "base_uri": "https://localhost:8080/"
        },
        "id": "mt4Fb0ia2PPA",
        "outputId": "6d62f62d-1104-4279-ea06-eb3ec30b46ed"
      },
      "execution_count": 28,
      "outputs": [
        {
          "output_type": "stream",
          "name": "stdout",
          "text": [
            "[20, 41, 6, 18, 23, 8, 37]\n"
          ]
        }
      ]
    },
    {
      "cell_type": "code",
      "source": [
        "edades=[20,41,6,18,23]\n",
        "edades=edades+[8,37]\n",
        "print(edades)"
      ],
      "metadata": {
        "colab": {
          "base_uri": "https://localhost:8080/"
        },
        "id": "ncvVHqRW4NSn",
        "outputId": "1d8c0590-68ae-4406-bd0f-12aa83eee2a1"
      },
      "execution_count": 29,
      "outputs": [
        {
          "output_type": "stream",
          "name": "stdout",
          "text": [
            "[20, 41, 6, 18, 23, 8, 37]\n"
          ]
        }
      ]
    }
  ]
}